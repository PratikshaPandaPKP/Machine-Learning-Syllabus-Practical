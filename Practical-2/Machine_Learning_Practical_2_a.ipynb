{
  "nbformat": 4,
  "nbformat_minor": 0,
  "metadata": {
    "colab": {
      "provenance": []
    },
    "kernelspec": {
      "name": "python3",
      "display_name": "Python 3"
    },
    "language_info": {
      "name": "python"
    }
  },
  "cells": [
    {
      "cell_type": "code",
      "execution_count": 1,
      "metadata": {
        "id": "hJ-kZSe2KES-"
      },
      "outputs": [],
      "source": [
        "import pandas as pd\n",
        "from sklearn.preprocessing import StandardScaler\n",
        "from sklearn.decomposition import PCA\n",
        "from sklearn.ensemble import RandomForestClassifier"
      ]
    },
    {
      "cell_type": "code",
      "source": [
        "# Load the dataset\n",
        "data = pd.read_csv('/content/winequality-red.csv')\n",
        "\n",
        "# Display the first few rows of the dataset\n",
        "print(data.head())\n"
      ],
      "metadata": {
        "colab": {
          "base_uri": "https://localhost:8080/"
        },
        "id": "wRpXRtjDKMbz",
        "outputId": "0e23a6dc-9f10-43cd-c8b3-9ff5ce8270f5"
      },
      "execution_count": 2,
      "outputs": [
        {
          "output_type": "stream",
          "name": "stdout",
          "text": [
            "   fixed acidity  volatile acidity  citric acid  residual sugar  chlorides  \\\n",
            "0            7.4              0.70         0.00             1.9      0.076   \n",
            "1            7.8              0.88         0.00             2.6      0.098   \n",
            "2            7.8              0.76         0.04             2.3      0.092   \n",
            "3           11.2              0.28         0.56             1.9      0.075   \n",
            "4            7.4              0.70         0.00             1.9      0.076   \n",
            "\n",
            "   free sulfur dioxide  total sulfur dioxide  density    pH  sulphates  \\\n",
            "0                 11.0                  34.0   0.9978  3.51       0.56   \n",
            "1                 25.0                  67.0   0.9968  3.20       0.68   \n",
            "2                 15.0                  54.0   0.9970  3.26       0.65   \n",
            "3                 17.0                  60.0   0.9980  3.16       0.58   \n",
            "4                 11.0                  34.0   0.9978  3.51       0.56   \n",
            "\n",
            "   alcohol  quality  \n",
            "0      9.4        5  \n",
            "1      9.8        5  \n",
            "2      9.8        5  \n",
            "3      9.8        6  \n",
            "4      9.4        5  \n"
          ]
        }
      ]
    },
    {
      "cell_type": "code",
      "source": [
        "# Separate features and target variable\n",
        "X = data.drop('quality', axis=1)  # Features\n",
        "y = data['quality']               # Target variable\n"
      ],
      "metadata": {
        "id": "BGrK7LoEKMfi"
      },
      "execution_count": 3,
      "outputs": []
    },
    {
      "cell_type": "code",
      "source": [
        "# Standardize the features\n",
        "scaler = StandardScaler()\n",
        "X_scaled = scaler.fit_transform(X)\n"
      ],
      "metadata": {
        "id": "3cPL9YGkKMi5"
      },
      "execution_count": 4,
      "outputs": []
    },
    {
      "cell_type": "code",
      "source": [
        "# Apply PCA to reduce dimensions\n",
        "pca = PCA(n_components=2)  # Reducing to 2 components for simplicity\n",
        "X_pca = pca.fit_transform(X_scaled)\n",
        "\n",
        "# Convert PCA results to DataFrame\n",
        "pca_df = pd.DataFrame(X_pca, columns=['PC1', 'PC2'])\n",
        "print(pca_df.head())\n"
      ],
      "metadata": {
        "colab": {
          "base_uri": "https://localhost:8080/"
        },
        "id": "Rv65gtuQKMm_",
        "outputId": "b5af0063-eb4d-4d94-b3e2-546fee24b6a5"
      },
      "execution_count": 5,
      "outputs": [
        {
          "output_type": "stream",
          "name": "stdout",
          "text": [
            "        PC1       PC2\n",
            "0 -1.619530  0.450950\n",
            "1 -0.799170  1.856553\n",
            "2 -0.748479  0.882039\n",
            "3  2.357673 -0.269976\n",
            "4 -1.619530  0.450950\n"
          ]
        }
      ]
    },
    {
      "cell_type": "code",
      "source": [
        "# Explained variance ratio\n",
        "print(f\"Explained variance ratio: {pca.explained_variance_ratio_}\")\n",
        "print(f\"Total explained variance: {sum(pca.explained_variance_ratio_)}\")\n"
      ],
      "metadata": {
        "colab": {
          "base_uri": "https://localhost:8080/"
        },
        "id": "ZiV4dXG9KrKv",
        "outputId": "d5a40a02-1851-40f9-f40a-a408070f04e6"
      },
      "execution_count": 6,
      "outputs": [
        {
          "output_type": "stream",
          "name": "stdout",
          "text": [
            "Explained variance ratio: [0.28173931 0.1750827 ]\n",
            "Total explained variance: 0.4568220118429409\n"
          ]
        }
      ]
    },
    {
      "cell_type": "code",
      "source": [
        "# Initialize and train the Random Forest model\n",
        "model = RandomForestClassifier(n_estimators=100, random_state=42)\n",
        "model.fit(X_scaled, y)\n",
        "\n",
        "# Get feature importance scores\n",
        "feature_importance = model.feature_importances_\n",
        "\n",
        "# Create a ranking of features\n",
        "feature_ranking = pd.Series(feature_importance, index=X.columns).sort_values(ascending=False)\n",
        "\n",
        "print(\"Feature Ranking:\\n\", feature_ranking)\n"
      ],
      "metadata": {
        "colab": {
          "base_uri": "https://localhost:8080/"
        },
        "id": "Qj1ZoyOUKrVQ",
        "outputId": "aa86280b-6da3-4afa-c21f-787fc4e854c5"
      },
      "execution_count": 7,
      "outputs": [
        {
          "output_type": "stream",
          "name": "stdout",
          "text": [
            "Feature Ranking:\n",
            " alcohol                 0.151698\n",
            "sulphates               0.112402\n",
            "total sulfur dioxide    0.103722\n",
            "volatile acidity        0.100606\n",
            "density                 0.088905\n",
            "chlorides               0.078535\n",
            "fixed acidity           0.075535\n",
            "pH                      0.075392\n",
            "citric acid             0.074150\n",
            "residual sugar          0.072882\n",
            "free sulfur dioxide     0.066172\n",
            "dtype: float64\n"
          ]
        }
      ]
    }
  ]
}