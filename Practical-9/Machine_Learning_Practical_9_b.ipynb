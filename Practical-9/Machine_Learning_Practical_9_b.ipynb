{
  "nbformat": 4,
  "nbformat_minor": 0,
  "metadata": {
    "colab": {
      "provenance": []
    },
    "kernelspec": {
      "name": "python3",
      "display_name": "Python 3"
    },
    "language_info": {
      "name": "python"
    }
  },
  "cells": [
    {
      "cell_type": "code",
      "execution_count": 1,
      "metadata": {
        "colab": {
          "base_uri": "https://localhost:8080/"
        },
        "id": "WPNNCrcYIFAL",
        "outputId": "eeb86873-748f-4728-ca40-835003b41aba"
      },
      "outputs": [
        {
          "output_type": "execute_result",
          "data": {
            "text/plain": [
              "array(['Sports', 'Politics'], dtype='<U8')"
            ]
          },
          "metadata": {},
          "execution_count": 1
        }
      ],
      "source": [
        "# Step 1: Import Required Libraries\n",
        "import pandas as pd\n",
        "from sklearn.feature_extraction.text import TfidfVectorizer\n",
        "from sklearn.naive_bayes import MultinomialNB\n",
        "from sklearn.model_selection import train_test_split\n",
        "from sklearn.metrics import accuracy_score, confusion_matrix\n",
        "\n",
        "# Step 2: Load Data\n",
        "data = {\n",
        "    'text': [\n",
        "        'The team won the championship',\n",
        "        'The government announced new policies',\n",
        "        'The match ended in a draw',\n",
        "        'Elections are coming soon',\n",
        "        'The player scored a goal',\n",
        "        'New laws were passed by the parliament'\n",
        "    ],\n",
        "    'label': ['Sports', 'Politics', 'Sports', 'Politics', 'Sports', 'Politics']\n",
        "}\n",
        "\n",
        "df = pd.DataFrame(data)\n",
        "\n",
        "# Step 3: Preprocessing\n",
        "# Vectorizing the text data using TF-IDF\n",
        "vectorizer = TfidfVectorizer()\n",
        "X = vectorizer.fit_transform(df['text'])\n",
        "y = df['label']\n",
        "\n",
        "# Step 4: Split the Data\n",
        "X_train, X_test, y_train, y_test = train_test_split(X, y, test_size=0.2, random_state=42)\n",
        "\n",
        "# Step 5: Train the Naive Bayes Classifier\n",
        "model = MultinomialNB()\n",
        "model.fit(X_train, y_train)\n",
        "\n",
        "# Step 6: Make Predictions\n",
        "y_pred = model.predict(X_test)\n",
        "y_pred"
      ]
    },
    {
      "cell_type": "code",
      "source": [
        "# Step 7: Evaluate the Model\n",
        "accuracy = accuracy_score(y_test, y_pred)\n",
        "conf_matrix = confusion_matrix(y_test, y_pred)\n",
        "\n",
        "# Output the results\n",
        "print(f'Accuracy: {accuracy:.2f}')\n",
        "print('Confusion Matrix:')\n",
        "print(conf_matrix)\n"
      ],
      "metadata": {
        "colab": {
          "base_uri": "https://localhost:8080/"
        },
        "id": "zniXxJF0ILQJ",
        "outputId": "04647eaf-9a5d-4fde-c1c8-d61b11195be0"
      },
      "execution_count": 2,
      "outputs": [
        {
          "output_type": "stream",
          "name": "stdout",
          "text": [
            "Accuracy: 1.00\n",
            "Confusion Matrix:\n",
            "[[1 0]\n",
            " [0 1]]\n"
          ]
        }
      ]
    }
  ]
}