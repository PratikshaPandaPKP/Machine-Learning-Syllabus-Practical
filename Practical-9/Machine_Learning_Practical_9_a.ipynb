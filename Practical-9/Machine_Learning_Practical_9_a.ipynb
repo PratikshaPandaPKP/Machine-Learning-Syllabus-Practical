{
  "nbformat": 4,
  "nbformat_minor": 0,
  "metadata": {
    "colab": {
      "provenance": []
    },
    "kernelspec": {
      "name": "python3",
      "display_name": "Python 3"
    },
    "language_info": {
      "name": "python"
    }
  },
  "cells": [
    {
      "cell_type": "code",
      "source": [
        "import pandas as pd\n",
        "import numpy as np\n",
        "from sklearn.model_selection import train_test_split\n",
        "from sklearn.preprocessing import OneHotEncoder\n",
        "\n",
        "# Step 1: Load the Iris dataset\n",
        "data = pd.read_csv('/content/iris.csv')\n",
        "\n",
        "# Separate features and target variable\n",
        "X = data.drop('species', axis=1).values  # Features (all columns except 'species')\n",
        "y = data['species'].values.reshape(-1, 1)  # Target (species) reshaped to 2D\n",
        "\n",
        "# One-hot encode the target labels\n",
        "encoder = OneHotEncoder()\n",
        "y_onehot = encoder.fit_transform(y).toarray()  # Convert sparse matrix to dense\n",
        "\n",
        "# Step 2: Split the dataset into training and testing sets\n",
        "X_train, X_test, y_train, y_test = train_test_split(X, y_onehot, test_size=0.2, random_state=42)\n",
        "\n",
        "# Step 3: Define the ANN structure\n",
        "class SimpleANN:\n",
        "    def __init__(self, input_size, hidden_size, output_size, learning_rate=0.01):\n",
        "        self.learning_rate = learning_rate\n",
        "        self.weights_input_hidden = np.random.rand(input_size, hidden_size) * 0.01\n",
        "        self.weights_hidden_output = np.random.rand(hidden_size, output_size) * 0.01\n",
        "        self.bias_hidden = np.random.rand(hidden_size) * 0.01\n",
        "        self.bias_output = np.random.rand(output_size) * 0.01\n",
        "\n",
        "    def sigmoid(self, x):\n",
        "        return 1 / (1 + np.exp(-x))\n",
        "\n",
        "    def sigmoid_derivative(self, x):\n",
        "        return x * (1 - x)\n",
        "\n",
        "    def forward(self, X):\n",
        "        self.hidden_layer_input = np.dot(X, self.weights_input_hidden) + self.bias_hidden\n",
        "        self.hidden_layer_output = self.sigmoid(self.hidden_layer_input)\n",
        "        self.output_layer_input = np.dot(self.hidden_layer_output, self.weights_hidden_output) + self.bias_output\n",
        "        self.output = self.sigmoid(self.output_layer_input)\n",
        "        return self.output\n",
        "\n",
        "    def backward(self, X, y):\n",
        "        # Calculate the error\n",
        "        output_error = y - self.output\n",
        "        output_delta = output_error * self.sigmoid_derivative(self.output)\n",
        "\n",
        "        # Hidden layer error\n",
        "        hidden_error = output_delta.dot(self.weights_hidden_output.T)\n",
        "        hidden_delta = hidden_error * self.sigmoid_derivative(self.hidden_layer_output)\n",
        "\n",
        "        # Update weights and biases\n",
        "        self.weights_hidden_output += self.hidden_layer_output.T.dot(output_delta) * self.learning_rate\n",
        "        self.bias_output += np.sum(output_delta, axis=0) * self.learning_rate\n",
        "        self.weights_input_hidden += X.T.dot(hidden_delta) * self.learning_rate\n",
        "        self.bias_hidden += np.sum(hidden_delta, axis=0) * self.learning_rate\n",
        "\n",
        "    def train(self, X, y, epochs):\n",
        "        for _ in range(epochs):\n",
        "            self.forward(X)\n",
        "            self.backward(X, y)\n",
        "\n",
        "    def predict(self, X):\n",
        "        return self.forward(X)\n",
        "\n",
        "# Step 4: Initialize and train the ANN\n",
        "input_size = X_train.shape[1]\n",
        "hidden_size = 5  # Number of neurons in the hidden layer\n",
        "output_size = y_train.shape[1]\n",
        "learning_rate = 0.01\n",
        "\n",
        "ann = SimpleANN(input_size, hidden_size, output_size, learning_rate)\n",
        "ann.train(X_train, y_train, epochs=1000)\n",
        "\n",
        "# Step 5: Test the ANN\n",
        "predictions = ann.predict(X_test)\n",
        "predicted_classes = np.argmax(predictions, axis=1)\n",
        "true_classes = np.argmax(y_test, axis=1)"
      ],
      "metadata": {
        "id": "O3lQRXty-Xqe"
      },
      "execution_count": 1,
      "outputs": []
    },
    {
      "cell_type": "code",
      "source": [
        "predicted_classes"
      ],
      "metadata": {
        "colab": {
          "base_uri": "https://localhost:8080/"
        },
        "id": "ftvaV8plGQya",
        "outputId": "939c41ae-9cec-427c-bd89-667dbc41e068"
      },
      "execution_count": 2,
      "outputs": [
        {
          "output_type": "execute_result",
          "data": {
            "text/plain": [
              "array([1, 0, 2, 1, 1, 0, 1, 2, 1, 1, 2, 0, 0, 0, 0, 1, 2, 1, 1, 2, 0, 2,\n",
              "       0, 2, 2, 2, 2, 2, 0, 0])"
            ]
          },
          "metadata": {},
          "execution_count": 2
        }
      ]
    },
    {
      "cell_type": "code",
      "source": [
        "true_classes"
      ],
      "metadata": {
        "colab": {
          "base_uri": "https://localhost:8080/"
        },
        "id": "dKfdi0TfGK7f",
        "outputId": "8e0e6440-c050-4d13-b71a-ab68bf089abd"
      },
      "execution_count": 3,
      "outputs": [
        {
          "output_type": "execute_result",
          "data": {
            "text/plain": [
              "array([1, 0, 2, 1, 1, 0, 1, 2, 1, 1, 2, 0, 0, 0, 0, 1, 2, 1, 1, 2, 0, 2,\n",
              "       0, 2, 2, 2, 2, 2, 0, 0])"
            ]
          },
          "metadata": {},
          "execution_count": 3
        }
      ]
    },
    {
      "cell_type": "code",
      "source": [
        "# Calculate accuracy\n",
        "accuracy = np.mean(predicted_classes == true_classes)\n",
        "print(f'Accuracy: {accuracy * 100:.2f}%')\n"
      ],
      "metadata": {
        "colab": {
          "base_uri": "https://localhost:8080/"
        },
        "id": "JMEUU10cF3dj",
        "outputId": "c38423c8-0607-47a6-f1de-cd3541022e6e"
      },
      "execution_count": 4,
      "outputs": [
        {
          "output_type": "stream",
          "name": "stdout",
          "text": [
            "Accuracy: 100.00%\n"
          ]
        }
      ]
    }
  ]
}