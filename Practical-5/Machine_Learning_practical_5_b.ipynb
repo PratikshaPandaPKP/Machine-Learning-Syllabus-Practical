{
  "nbformat": 4,
  "nbformat_minor": 0,
  "metadata": {
    "colab": {
      "provenance": []
    },
    "kernelspec": {
      "name": "python3",
      "display_name": "Python 3"
    },
    "language_info": {
      "name": "python"
    }
  },
  "cells": [
    {
      "cell_type": "code",
      "source": [
        "# Importing necessary libraries\n",
        "import pandas as pd\n",
        "from sklearn.model_selection import train_test_split\n",
        "from sklearn.neighbors import KNeighborsClassifier\n",
        "from sklearn import metrics\n",
        "\n",
        "# Load the Iris dataset from the CSV file\n",
        "iris_data = pd.read_csv('/content/iris.csv')\n",
        "\n",
        "# Features (X) and Labels (y)\n",
        "X = iris_data.drop(columns=['species'])  # Features\n",
        "y = iris_data['species']  # Labels (species)\n",
        "\n",
        "# Splitting the dataset into training and testing sets (70% training, 30% testing)\n",
        "X_train, X_test, y_train, y_test = train_test_split(X, y, test_size=0.3, random_state=1)\n",
        "\n",
        "# Creating the KNN classifier with k=5\n",
        "knn = KNeighborsClassifier(n_neighbors=5)\n",
        "\n",
        "# Training the classifier\n",
        "knn.fit(X_train, y_train)\n",
        "\n",
        "# Predicting the labels for the test set\n",
        "y_pred = knn.predict(X_test)\n",
        "\n",
        "# Model accuracy\n",
        "print(\"Accuracy:\", metrics.accuracy_score(y_test, y_pred))\n",
        "\n",
        "# Classifying a new sample (example)\n",
        "# Adjust the new sample to match the Iris dataset format (4 features: sepal length, sepal width, petal length, petal width)\n",
        "new_sample = pd.DataFrame([[1.9, 3.0, 5.1, 1.8]], columns=X.columns)\n",
        "prediction = knn.predict(new_sample)\n",
        "\n",
        "# Printing the prediction\n",
        "print(\"New Sample Prediction:\", prediction[0])\n"
      ],
      "metadata": {
        "colab": {
          "base_uri": "https://localhost:8080/"
        },
        "id": "bm6ITaGPQW6c",
        "outputId": "f32ec3be-226f-4110-d545-c3ac35159090"
      },
      "execution_count": 6,
      "outputs": [
        {
          "output_type": "stream",
          "name": "stdout",
          "text": [
            "Accuracy: 0.9777777777777777\n",
            "New Sample Prediction: versicolor\n"
          ]
        }
      ]
    }
  ]
}